{
 "cells": [
  {
   "cell_type": "markdown",
   "metadata": {},
   "source": [
    "# Task 1"
   ]
  },
  {
   "cell_type": "code",
   "execution_count": null,
   "metadata": {},
   "outputs": [
    {
     "data": {
      "text/plain": [
       "[ 1 -1  0]\n",
       "[-1  2  2]\n",
       "[ 0  2  5]"
      ]
     },
     "execution_count": null,
     "metadata": {},
     "output_type": "execute_result"
    }
   ],
   "source": [
    "F1 = Matrix([[1, -1, 0], [-1, 2, 2], [0, 2, 5]])\n",
    "F1"
   ]
  },
  {
   "cell_type": "code",
   "execution_count": null,
   "metadata": {},
   "outputs": [
    {
     "data": {
      "text/plain": [
       "[  0 1/2 1/2 1/2]\n",
       "[1/2   0 1/2 1/2]\n",
       "[1/2 1/2   0   0]\n",
       "[1/2 1/2   0   0]"
      ]
     },
     "execution_count": null,
     "metadata": {},
     "output_type": "execute_result"
    }
   ],
   "source": [
    "F2 = Matrix([\n",
    "    [0, 1/2, 1/2, 1/2],\n",
    "    [1/2, 0, 1/2, 1/2],\n",
    "    [1/2, 1/2, 0, 0],\n",
    "    [1/2, 1/2, 0, 0]])\n",
    "F2"
   ]
  },
  {
   "cell_type": "code",
   "execution_count": null,
   "metadata": {},
   "outputs": [
    {
     "data": {
      "text/plain": [
       "3"
      ]
     },
     "execution_count": null,
     "metadata": {},
     "output_type": "execute_result"
    }
   ],
   "source": [
    "F1.rank()"
   ]
  },
  {
   "cell_type": "code",
   "execution_count": null,
   "metadata": {},
   "outputs": [
    {
     "data": {
      "text/plain": [
       "3"
      ]
     },
     "execution_count": null,
     "metadata": {},
     "output_type": "execute_result"
    }
   ],
   "source": [
    "F2.rank()"
   ]
  },
  {
   "cell_type": "markdown",
   "metadata": {},
   "source": [
    "# Task 2\n",
    "### G1"
   ]
  },
  {
   "cell_type": "code",
   "execution_count": null,
   "metadata": {},
   "outputs": [
    {
     "data": {
      "text/plain": [
       "x1^2 + 2*x1*x2 - 2*x2^2 + 4*x1*x3 + 2*x2*x3 + x3^2"
      ]
     },
     "execution_count": null,
     "metadata": {},
     "output_type": "execute_result"
    }
   ],
   "source": [
    "x1, x2, x3, x4 = var(\"x1 x2 x3 x4\")\n",
    "G1 = x1^2 - 2*x2^2 + x3^2 + 2*x1*x2 + 4*x1*x3 + 2*x2*x3 \n",
    "G1"
   ]
  },
  {
   "cell_type": "code",
   "execution_count": null,
   "metadata": {},
   "outputs": [
    {
     "data": {
      "text/plain": [
       "x1^2 + 2*x1*x2 - 2*x2^2 + 4*x1*x3 + 2*x2*x3 + x3^2"
      ]
     },
     "execution_count": null,
     "metadata": {},
     "output_type": "execute_result"
    }
   ],
   "source": [
    "((x1 + x2 + 2*x3)^2 - 3*x2^2 - 2*x2*x3 - 3*x3^2).expand()"
   ]
  },
  {
   "cell_type": "code",
   "execution_count": null,
   "metadata": {},
   "outputs": [
    {
     "data": {
      "text/plain": [
       "-3*x2^2 - 2*x2*x3 - 3*x3^2"
      ]
     },
     "execution_count": null,
     "metadata": {},
     "output_type": "execute_result"
    }
   ],
   "source": [
    "y1 = x1 + x2 + 2*x3\n",
    "-3*x2^2 - 2*x2*x3 - 3*x3^2"
   ]
  },
  {
   "cell_type": "code",
   "execution_count": null,
   "metadata": {},
   "outputs": [
    {
     "data": {
      "text/plain": [
       "-3*x2^2 - 2*x2*x3 - 3*x3^2"
      ]
     },
     "execution_count": null,
     "metadata": {},
     "output_type": "execute_result"
    }
   ],
   "source": [
    "(-3*(x2 + x3/3)^2 - 8/3*x3^2).expand()"
   ]
  },
  {
   "cell_type": "code",
   "execution_count": null,
   "metadata": {},
   "outputs": [
    {
     "data": {
      "text/plain": [
       "-8/3*x3^2"
      ]
     },
     "execution_count": null,
     "metadata": {},
     "output_type": "execute_result"
    }
   ],
   "source": [
    "y2 = x2 + x3/3\n",
    "(G1 - (y1^2 - 3*y2^2)).expand()"
   ]
  },
  {
   "cell_type": "code",
   "execution_count": null,
   "metadata": {},
   "outputs": [
    {
     "data": {
      "text/plain": [
       "0"
      ]
     },
     "execution_count": null,
     "metadata": {},
     "output_type": "execute_result"
    }
   ],
   "source": [
    "(G1 - (y1^2 - 3 * y2^2 - 8/3 * x3^2)).expand()"
   ]
  },
  {
   "cell_type": "code",
   "execution_count": null,
   "metadata": {},
   "outputs": [],
   "source": [
    "T = Matrix([[1,1,2], [0, 2, 1/3], [0, 0, 1]])"
   ]
  },
  {
   "cell_type": "markdown",
   "metadata": {},
   "source": [
    "### G2"
   ]
  },
  {
   "cell_type": "code",
   "execution_count": null,
   "metadata": {},
   "outputs": [
    {
     "data": {
      "text/plain": [
       "2*x1*x3 - 4*x2*x3"
      ]
     },
     "execution_count": null,
     "metadata": {},
     "output_type": "execute_result"
    }
   ],
   "source": [
    "G2 = 2*x1*x3 - 4*x2*x3\n",
    "G2"
   ]
  },
  {
   "cell_type": "code",
   "execution_count": null,
   "metadata": {},
   "outputs": [
    {
     "data": {
      "text/plain": [
       "-4*x2*z1 + 2*z1^2 - 4*x2*z2 - 2*z2^2"
      ]
     },
     "execution_count": null,
     "metadata": {},
     "output_type": "execute_result"
    }
   ],
   "source": [
    "z1, z2 = var(\"z1 z2\")\n",
    "G2.substitute(x1 == z1 - z2, x3 == z1 + z2).expand()"
   ]
  },
  {
   "cell_type": "code",
   "execution_count": null,
   "metadata": {},
   "outputs": [
    {
     "data": {
      "text/plain": [
       "-4*x2*z1 + 2*z1^2 - 4*x2*z2 - 2*z2^2"
      ]
     },
     "execution_count": null,
     "metadata": {},
     "output_type": "execute_result"
    }
   ],
   "source": [
    "(2*(z1 - x2)^2 - 2*x2^2 - 4*x2*z2 - 2*z2^2).expand()"
   ]
  },
  {
   "cell_type": "code",
   "execution_count": null,
   "metadata": {},
   "outputs": [
    {
     "data": {
      "text/plain": [
       "0"
      ]
     },
     "execution_count": null,
     "metadata": {},
     "output_type": "execute_result"
    }
   ],
   "source": [
    "y1 = z1 - x2\n",
    "((-4*x2*z1 + 2*z1^2 - 4*x2*z2 - 2*z2^2) - (2*y1^2 - 2*x2^2 - 4*x2*z2 - 2*z2^2)).expand()"
   ]
  },
  {
   "cell_type": "code",
   "execution_count": null,
   "metadata": {},
   "outputs": [
    {
     "data": {
      "text/plain": [
       "-2*x2^2 - 4*x2*z2 - 2*z2^2"
      ]
     },
     "execution_count": null,
     "metadata": {},
     "output_type": "execute_result"
    }
   ],
   "source": [
    "(-2*(x2 + z2)^2).expand()"
   ]
  },
  {
   "cell_type": "code",
   "execution_count": null,
   "metadata": {},
   "outputs": [
    {
     "data": {
      "text/plain": [
       "0"
      ]
     },
     "execution_count": null,
     "metadata": {},
     "output_type": "execute_result"
    }
   ],
   "source": [
    "y2 = x2 + z2\n",
    "((-4*x2*z1 + 2*z1^2 - 4*x2*z2 - 2*z2^2) - (2*y1^2 - 2*y2^2)).expand()"
   ]
  },
  {
   "cell_type": "markdown",
   "metadata": {},
   "source": [
    "# Task 3"
   ]
  },
  {
   "cell_type": "code",
   "execution_count": null,
   "metadata": {},
   "outputs": [],
   "source": [
    "F1 = Matrix([[1,-1,0], [-1,0,2], [0,2,5]])\n",
    "G1 = Matrix([[1,1,2], [1,-2,1], [2,1,1]])\n",
    "F2 = Matrix([[0,1/2,1/2,1/2], [1/2,0,1/2,1/2], [1/2,1/2,0,0], [1/2,1/2,0,0]])\n",
    "G2 = Matrix([[0,0,1], [0,0,-2], [1,-2,0]])"
   ]
  },
  {
   "cell_type": "code",
   "execution_count": null,
   "metadata": {},
   "outputs": [
    {
     "name": "stdout",
     "output_type": "stream",
     "text": [
      "3\n",
      "3\n",
      "3\n",
      "2\n"
     ]
    }
   ],
   "source": [
    "print(F1.rank())\n",
    "print(G1.rank())\n",
    "print(F2.rank())\n",
    "print(G2.rank())"
   ]
  },
  {
   "cell_type": "markdown",
   "metadata": {},
   "source": [
    "# Task 4"
   ]
  },
  {
   "cell_type": "code",
   "execution_count": null,
   "metadata": {},
   "outputs": [
    {
     "data": {
      "text/plain": [
       "0"
      ]
     },
     "execution_count": null,
     "metadata": {},
     "output_type": "execute_result"
    }
   ],
   "source": [
    "F = 17*x1^2 + 17*x2^2 + 11*x3^2 - 16*x1*x2 + 8*x1*x3 - 8*x2*x3\n",
    "MF = Matrix([[17, -8, 4], [-8, 17, -4], [4, -4, 11]])\n",
    "(Matrix([[x1, x2, x3]]) * MF * Matrix([[x1], [x2], [x3]])).expand()[0][0] - F"
   ]
  },
  {
   "cell_type": "markdown",
   "metadata": {},
   "source": [
    "### the broken way"
   ]
  },
  {
   "cell_type": "code",
   "execution_count": null,
   "metadata": {},
   "outputs": [
    {
     "data": {
      "text/plain": [
       "225/17*x2^2 - 72/17*x2*x3 + 171/17*x3^2"
      ]
     },
     "execution_count": null,
     "metadata": {},
     "output_type": "execute_result"
    }
   ],
   "source": [
    "(F - 17*(x1 - 8/17*x2 + 4/17*x3)^2).expand()"
   ]
  },
  {
   "cell_type": "code",
   "execution_count": null,
   "metadata": {},
   "outputs": [
    {
     "data": {
      "text/plain": [
       "243/25*x3^2"
      ]
     },
     "execution_count": null,
     "metadata": {},
     "output_type": "execute_result"
    }
   ],
   "source": [
    "y1 = x1 - 8/17*x2 + 4/17*x3\n",
    "((225/17*x2^2 - 72/17*x2*x3 + 171/17*x3^2) - 225/17*(x2 - 4/25*x3)^2).expand()"
   ]
  },
  {
   "cell_type": "code",
   "execution_count": null,
   "metadata": {},
   "outputs": [
    {
     "data": {
      "text/plain": [
       "0"
      ]
     },
     "execution_count": null,
     "metadata": {},
     "output_type": "execute_result"
    }
   ],
   "source": [
    "y2 = x2 - 4/25*x3\n",
    "(F - (17*y1^2 + 225/17*y2^2 + 243/25*x3^2)).expand()"
   ]
  },
  {
   "cell_type": "code",
   "execution_count": null,
   "metadata": {},
   "outputs": [
    {
     "data": {
      "text/plain": [
       "[    1 -8/17  4/17]\n",
       "[    0     1 -4/25]\n",
       "[    0     0     1]"
      ]
     },
     "execution_count": null,
     "metadata": {},
     "output_type": "execute_result"
    }
   ],
   "source": [
    "T = Matrix([[1, -8/17, 4/17], [0, 1, -4/25], [0, 0, 1]])\n",
    "T"
   ]
  },
  {
   "cell_type": "code",
   "execution_count": null,
   "metadata": {
    "scrolled": true
   },
   "outputs": [
    {
     "data": {
      "text/plain": [
       "[   369/17 -1944/289   972/425]\n",
       "[  -216/25  5769/425  -972/625]\n",
       "[        4    -36/17    243/25]"
      ]
     },
     "execution_count": null,
     "metadata": {},
     "output_type": "execute_result"
    }
   ],
   "source": [
    "T*MF*T.inverse()"
   ]
  },
  {
   "cell_type": "markdown",
   "metadata": {},
   "source": [
    "### the good way"
   ]
  },
  {
   "cell_type": "code",
   "execution_count": null,
   "metadata": {},
   "outputs": [
    {
     "data": {
      "text/plain": [
       "[27, 9, 9]"
      ]
     },
     "execution_count": null,
     "metadata": {},
     "output_type": "execute_result"
    }
   ],
   "source": [
    "MF.eigenvalues()"
   ]
  },
  {
   "cell_type": "code",
   "execution_count": null,
   "metadata": {},
   "outputs": [
    {
     "data": {
      "text/plain": [
       "[17 -8  4]\n",
       "[-8 17 -4]\n",
       "[ 4 -4 11]"
      ]
     },
     "execution_count": null,
     "metadata": {},
     "output_type": "execute_result"
    }
   ],
   "source": [
    "MF"
   ]
  },
  {
   "cell_type": "code",
   "execution_count": null,
   "metadata": {},
   "outputs": [
    {
     "data": {
      "text/plain": [
       "Ellipsis"
      ]
     },
     "execution_count": null,
     "metadata": {},
     "output_type": "execute_result"
    }
   ],
   "source": [
    "..."
   ]
  },
  {
   "cell_type": "markdown",
   "metadata": {},
   "source": [
    "# Task 5"
   ]
  },
  {
   "cell_type": "code",
   "execution_count": null,
   "metadata": {},
   "outputs": [
    {
     "data": {
      "text/plain": [
       "8*x1^2 + 8*x1*x2 - 7*x2^2 - 2*x1*x3 + 8*x2*x3 + 8*x3^2"
      ]
     },
     "execution_count": null,
     "metadata": {},
     "output_type": "execute_result"
    }
   ],
   "source": [
    "F = 8*x1^2 - 7*x2^2 + 8*x3^2 + 8*x1*x2 - 2*x1*x3 + 8*x2*x3\n",
    "F"
   ]
  },
  {
   "cell_type": "code",
   "execution_count": null,
   "metadata": {},
   "outputs": [
    {
     "data": {
      "text/plain": [
       "[ 8  4 -1]\n",
       "[ 4 -7  4]\n",
       "[-1  4  8]"
      ]
     },
     "execution_count": null,
     "metadata": {},
     "output_type": "execute_result"
    }
   ],
   "source": [
    "M = Matrix([[8, 4, -1], [4, -7, 4], [-1, 4, 8]])\n",
    "M"
   ]
  },
  {
   "cell_type": "code",
   "execution_count": null,
   "metadata": {},
   "outputs": [
    {
     "data": {
      "text/plain": [
       "[-9, 9, 9]"
      ]
     },
     "execution_count": null,
     "metadata": {},
     "output_type": "execute_result"
    }
   ],
   "source": [
    "M.eigenvalues()"
   ]
  },
  {
   "cell_type": "code",
   "execution_count": null,
   "metadata": {},
   "outputs": [
    {
     "name": "stdout",
     "output_type": "stream",
     "text": [
      "-9 [(1, -4, 1)]\n",
      "9 [(1, 0, -1), (0, 1, 4)]\n"
     ]
    }
   ],
   "source": [
    "for v, vectors, _ in M.eigenvectors_left():\n",
    "    print(v, list(vectors))"
   ]
  },
  {
   "cell_type": "code",
   "execution_count": null,
   "metadata": {},
   "outputs": [
    {
     "data": {
      "text/plain": [
       "[(1/6*sqrt(2), -2/3*sqrt(2), 1/6*sqrt(2)),\n",
       " (1/2*sqrt(2), 0, -1/2*sqrt(2)),\n",
       " (0, 1/17*sqrt(17), 4/17*sqrt(17))]"
      ]
     },
     "execution_count": null,
     "metadata": {},
     "output_type": "execute_result"
    }
   ],
   "source": [
    "eigenvectors = sum((vs for _, vs, _ in M.eigenvectors_left()), [])\n",
    "eigenvectors = [v.normalized() for v in eigenvectors]\n",
    "eigenvectors"
   ]
  },
  {
   "cell_type": "code",
   "execution_count": null,
   "metadata": {},
   "outputs": [],
   "source": [
    "eigenvectors[2] = (eigenvectors[2] - eigenvectors[1] * eigenvectors[2] * eigenvectors[1]).normalized()"
   ]
  },
  {
   "cell_type": "code",
   "execution_count": null,
   "metadata": {},
   "outputs": [
    {
     "data": {
      "text/plain": [
       "[(1/6*sqrt(2), -2/3*sqrt(2), 1/6*sqrt(2)),\n",
       " (1/2*sqrt(2), 0, -1/2*sqrt(2)),\n",
       " (2/3*sqrt(17)*sqrt(1/17), 1/3*sqrt(17)*sqrt(1/17), 2/3*sqrt(17)*sqrt(1/17))]"
      ]
     },
     "execution_count": null,
     "metadata": {},
     "output_type": "execute_result"
    }
   ],
   "source": [
    "eigenvectors"
   ]
  },
  {
   "cell_type": "code",
   "execution_count": null,
   "metadata": {},
   "outputs": [
    {
     "data": {
      "text/plain": [
       "[ 1/6*sqrt(2) -2/3*sqrt(2)  1/6*sqrt(2)]\n",
       "[ 1/2*sqrt(2)            0 -1/2*sqrt(2)]\n",
       "[         2/3          1/3          2/3]"
      ]
     },
     "execution_count": null,
     "metadata": {},
     "output_type": "execute_result"
    }
   ],
   "source": [
    "T = Matrix(eigenvectors)\n",
    "T.simplify_full()"
   ]
  },
  {
   "cell_type": "code",
   "execution_count": null,
   "metadata": {
    "scrolled": true
   },
   "outputs": [
    {
     "data": {
      "text/plain": [
       "[ 1/6*sqrt(2)  1/2*sqrt(2)          2/3]\n",
       "[-2/3*sqrt(2)            0          1/3]\n",
       "[ 1/6*sqrt(2) -1/2*sqrt(2)          2/3]"
      ]
     },
     "execution_count": null,
     "metadata": {},
     "output_type": "execute_result"
    }
   ],
   "source": [
    "Tinv = T.inverse()\n",
    "Tinv.simplify_full()"
   ]
  },
  {
   "cell_type": "code",
   "execution_count": null,
   "metadata": {
    "scrolled": true
   },
   "outputs": [
    {
     "data": {
      "text/plain": [
       "[-9  0  0]\n",
       "[ 0  9  0]\n",
       "[ 0  0  9]"
      ]
     },
     "execution_count": null,
     "metadata": {},
     "output_type": "execute_result"
    }
   ],
   "source": [
    "T * M * T.inverse()"
   ]
  },
  {
   "cell_type": "markdown",
   "metadata": {},
   "source": [
    "# Task 6\n",
    "### $F_1$"
   ]
  },
  {
   "cell_type": "code",
   "execution_count": null,
   "metadata": {},
   "outputs": [],
   "source": [
    "M = Matrix([[17, -8, 4], [-8, 17, -4], [4, -4, 11]])\n",
    "T = Matrix([(2/3, -2/3, 1/3), (1/5*sqrt(5), 0, -2/5*sqrt(5)), (4/15*sqrt(5), 1/3*sqrt(5), 2/15*sqrt(5))])\n",
    "T1 = Matrix([[1/sqrt(27), 0, 0], [0, 1/3, 0], [0, 0, 1/3]]) * T"
   ]
  },
  {
   "cell_type": "code",
   "execution_count": null,
   "metadata": {},
   "outputs": [
    {
     "data": {
      "text/plain": [
       "[1 0 0]\n",
       "[0 1 0]\n",
       "[0 0 1]"
      ]
     },
     "execution_count": null,
     "metadata": {},
     "output_type": "execute_result"
    }
   ],
   "source": [
    "T1 * M * T1.transpose()"
   ]
  },
  {
   "cell_type": "code",
   "execution_count": null,
   "metadata": {},
   "outputs": [
    {
     "data": {
      "text/plain": [
       "[ 2/27*sqrt(3) -2/27*sqrt(3)  1/27*sqrt(3)]\n",
       "[ 1/15*sqrt(5)             0 -2/15*sqrt(5)]\n",
       "[ 4/45*sqrt(5)   1/9*sqrt(5)  2/45*sqrt(5)]"
      ]
     },
     "execution_count": null,
     "metadata": {},
     "output_type": "execute_result"
    }
   ],
   "source": [
    "T1"
   ]
  },
  {
   "cell_type": "markdown",
   "metadata": {},
   "source": [
    "### $F_2$"
   ]
  },
  {
   "cell_type": "code",
   "execution_count": null,
   "metadata": {},
   "outputs": [],
   "source": [
    "M = Matrix([[8, 4, -1], [4, -7, 4], [-1, 4, 8]])\n",
    "T = Matrix([[1/6*sqrt(2), -2/3*sqrt(2),  1/6*sqrt(2)],\n",
    "            [ 1/2*sqrt(2),            0, -1/2*sqrt(2)],\n",
    "            [         2/3,          1/3,          2/3]])"
   ]
  },
  {
   "cell_type": "code",
   "execution_count": null,
   "metadata": {},
   "outputs": [],
   "source": [
    "T1 = Matrix([[1/3,0,0],[0,1/3,0],[0,0,1/3]]) * T"
   ]
  },
  {
   "cell_type": "code",
   "execution_count": null,
   "metadata": {},
   "outputs": [
    {
     "data": {
      "text/plain": [
       "[-1  0  0]\n",
       "[ 0  1  0]\n",
       "[ 0  0  1]"
      ]
     },
     "execution_count": null,
     "metadata": {},
     "output_type": "execute_result"
    }
   ],
   "source": [
    "T1 * M * T1.transpose()"
   ]
  },
  {
   "cell_type": "code",
   "execution_count": null,
   "metadata": {},
   "outputs": [
    {
     "data": {
      "text/plain": [
       "[1/18*sqrt(2) -2/9*sqrt(2) 1/18*sqrt(2)]\n",
       "[ 1/6*sqrt(2)            0 -1/6*sqrt(2)]\n",
       "[         2/9          1/9          2/9]"
      ]
     },
     "execution_count": null,
     "metadata": {},
     "output_type": "execute_result"
    }
   ],
   "source": [
    "T1"
   ]
  },
  {
   "cell_type": "code",
   "execution_count": null,
   "metadata": {},
   "outputs": [
    {
     "data": {
      "text/plain": [
       "[1/18*I*sqrt(2) -2/9*I*sqrt(2) 1/18*I*sqrt(2)]\n",
       "[   1/6*sqrt(2)              0   -1/6*sqrt(2)]\n",
       "[           2/9            1/9            2/9]"
      ]
     },
     "execution_count": null,
     "metadata": {},
     "output_type": "execute_result"
    }
   ],
   "source": [
    "T2 = Matrix([[i,0,0], [0,1,0], [0,0,1]]) * T1\n",
    "T2"
   ]
  },
  {
   "cell_type": "code",
   "execution_count": null,
   "metadata": {},
   "outputs": [
    {
     "data": {
      "text/plain": [
       "[1 0 0]\n",
       "[0 1 0]\n",
       "[0 0 1]"
      ]
     },
     "execution_count": null,
     "metadata": {},
     "output_type": "execute_result"
    }
   ],
   "source": [
    "T2 * M * T2.transpose()"
   ]
  },
  {
   "cell_type": "markdown",
   "metadata": {},
   "source": [
    "# Task 7"
   ]
  },
  {
   "cell_type": "code",
   "execution_count": null,
   "metadata": {},
   "outputs": [],
   "source": [
    "G1 = Matrix([[1,1,2], [1,-2,1], [2,1,1]])\n",
    "G2 = Matrix([[0,0,1], [0,0,-2], [1,-2,0]])"
   ]
  },
  {
   "cell_type": "code",
   "execution_count": null,
   "metadata": {},
   "outputs": [
    {
     "data": {
      "text/plain": [
       "[-1, -2.372281323269015?, 3.372281323269015?]"
      ]
     },
     "execution_count": null,
     "metadata": {},
     "output_type": "execute_result"
    }
   ],
   "source": [
    "G1.eigenvalues()"
   ]
  },
  {
   "cell_type": "code",
   "execution_count": null,
   "metadata": {},
   "outputs": [
    {
     "data": {
      "text/plain": [
       "[0, -2.236067977499790?, 2.236067977499790?]"
      ]
     },
     "execution_count": null,
     "metadata": {},
     "output_type": "execute_result"
    }
   ],
   "source": [
    "G2.eigenvalues()"
   ]
  },
  {
   "cell_type": "markdown",
   "metadata": {},
   "source": [
    "# Task 8"
   ]
  },
  {
   "cell_type": "code",
   "execution_count": null,
   "metadata": {},
   "outputs": [
    {
     "data": {
      "text/plain": [
       "[2 λ 1]\n",
       "[λ 1 0]\n",
       "[1 0 3]"
      ]
     },
     "execution_count": null,
     "metadata": {},
     "output_type": "execute_result"
    }
   ],
   "source": [
    "λ = var(\"λ\")\n",
    "M = Matrix([[2,λ,1], [λ,1,0], [1,0,3]])\n",
    "M"
   ]
  },
  {
   "cell_type": "code",
   "execution_count": null,
   "metadata": {},
   "outputs": [
    {
     "data": {
      "text/plain": [
       "-3*λ^2 + 5"
      ]
     },
     "execution_count": null,
     "metadata": {},
     "output_type": "execute_result"
    }
   ],
   "source": [
    "M.determinant()"
   ]
  },
  {
   "cell_type": "code",
   "execution_count": null,
   "metadata": {},
   "outputs": [],
   "source": []
  }
 ],
 "metadata": {
  "kernelspec": {
   "display_name": "SageMath 9.6",
   "language": "sage",
   "name": "sagemath"
  },
  "language_info": {
   "codemirror_mode": {
    "name": "ipython",
    "version": 3
   },
   "file_extension": ".py",
   "mimetype": "text/x-python",
   "name": "python",
   "nbconvert_exporter": "python",
   "pygments_lexer": "ipython3",
   "version": "3.10.5"
  }
 },
 "nbformat": 4,
 "nbformat_minor": 5
}
