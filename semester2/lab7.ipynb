{
 "cells": [
  {
   "cell_type": "markdown",
   "metadata": {},
   "source": [
    "# Task 8"
   ]
  },
  {
   "cell_type": "code",
   "execution_count": null,
   "metadata": {},
   "outputs": [
    {
     "data": {
      "text/plain": [
       "[[x1 == -3*r3, x2 == 2*r3 - r4, x3 == r4, x4 == r3]]"
      ]
     },
     "execution_count": null,
     "metadata": {},
     "output_type": "execute_result"
    }
   ],
   "source": [
    "x1, x2, x3, x4 = var(\"x1\", \"x2\", \"x3\", \"x4\")\n",
    "solve([x1 + x2 + x3 + x4 == 0, x1 + 2*x2 + 2*x3 - x4 == 0, x1 + 3*x4 == 0], x1, x2, x3, x4)"
   ]
  },
  {
   "cell_type": "markdown",
   "metadata": {},
   "source": [
    "# Task 9\n",
    "From $C$ find orthogonal matrix $T$, such that $TCT^{-1}$ is diagonal"
   ]
  },
  {
   "cell_type": "code",
   "execution_count": null,
   "metadata": {},
   "outputs": [
    {
     "data": {
      "text/plain": [
       "[17 -8  4]\n",
       "[-8 17 -4]\n",
       "[ 4 -4 11]"
      ]
     },
     "execution_count": null,
     "metadata": {},
     "output_type": "execute_result"
    }
   ],
   "source": [
    "C = Matrix([[17, -8, 4], [-8, 17, -4], [4, -4, 11]])\n",
    "C"
   ]
  },
  {
   "cell_type": "code",
   "execution_count": null,
   "metadata": {},
   "outputs": [
    {
     "name": "stdout",
     "output_type": "stream",
     "text": [
      "[27, 9, 9]\n",
      "[(27, [\n",
      "(1, -1, 1/2)\n",
      "], 1), (9, [\n",
      "(1, 0, -2),\n",
      "(0, 1, 2)\n",
      "], 2)]\n"
     ]
    }
   ],
   "source": [
    "print(C.eigenvalues())\n",
    "print(C.eigenvectors_left())"
   ]
  },
  {
   "cell_type": "code",
   "execution_count": null,
   "metadata": {
    "scrolled": false
   },
   "outputs": [
    {
     "name": "stdout",
     "output_type": "stream",
     "text": [
      "[27, 9, 9]\n",
      "[(27, [\n",
      "(1, -1, 1/2)\n",
      "], 1), (9, [\n",
      "(1, 0, -2),\n",
      "(0, 1, 2)\n",
      "], 2)]\n"
     ]
    },
    {
     "data": {
      "text/plain": [
       "[(2/3, -2/3, 1/3),\n",
       " (1/5*sqrt(5), 0, -2/5*sqrt(5)),\n",
       " (0, 1/5*sqrt(5), 2/5*sqrt(5))]"
      ]
     },
     "execution_count": null,
     "metadata": {},
     "output_type": "execute_result"
    }
   ],
   "source": [
    "print(C.eigenvalues())\n",
    "print(C.eigenvectors_left())\n",
    "eigenvectors = sum((vs for _, vs, _ in C.eigenvectors_left()), [])\n",
    "eigenvectors = [v.normalized() for v in eigenvectors]\n",
    "eigenvectors"
   ]
  },
  {
   "cell_type": "code",
   "execution_count": null,
   "metadata": {},
   "outputs": [
    {
     "data": {
      "text/plain": [
       "[(2/3, -2/3, 1/3),\n",
       " (1/5*sqrt(5), 0, -2/5*sqrt(5)),\n",
       " (4/15*sqrt(5), 1/3*sqrt(5), 2/15*sqrt(5))]"
      ]
     },
     "execution_count": null,
     "metadata": {},
     "output_type": "execute_result"
    }
   ],
   "source": [
    "eigenvectors[2] = (eigenvectors[2] - eigenvectors[1] * eigenvectors[2] * eigenvectors[1]).normalized()\n",
    "eigenvectors"
   ]
  },
  {
   "cell_type": "code",
   "execution_count": null,
   "metadata": {},
   "outputs": [
    {
     "data": {
      "text/plain": [
       "[         2/3         -2/3          1/3]\n",
       "[ 1/5*sqrt(5)            0 -2/5*sqrt(5)]\n",
       "[4/15*sqrt(5)  1/3*sqrt(5) 2/15*sqrt(5)]"
      ]
     },
     "execution_count": null,
     "metadata": {},
     "output_type": "execute_result"
    }
   ],
   "source": [
    "T = Matrix([(2/3, -2/3, 1/3),\n",
    " (1/5*sqrt(5), 0, -2/5*sqrt(5)),\n",
    " (4/15*sqrt(5), 1/3*sqrt(5), 2/15*sqrt(5))])\n",
    "T"
   ]
  },
  {
   "cell_type": "code",
   "execution_count": null,
   "metadata": {},
   "outputs": [
    {
     "data": {
      "text/plain": [
       "[         2/3  1/5*sqrt(5) 4/15*sqrt(5)]\n",
       "[        -2/3            0  1/3*sqrt(5)]\n",
       "[         1/3 -2/5*sqrt(5) 2/15*sqrt(5)]"
      ]
     },
     "execution_count": null,
     "metadata": {},
     "output_type": "execute_result"
    }
   ],
   "source": [
    "T.inverse()"
   ]
  },
  {
   "cell_type": "code",
   "execution_count": null,
   "metadata": {},
   "outputs": [
    {
     "data": {
      "text/plain": [
       "[27  0  0]\n",
       "[ 0  9  0]\n",
       "[ 0  0  9]"
      ]
     },
     "execution_count": null,
     "metadata": {},
     "output_type": "execute_result"
    }
   ],
   "source": [
    "T * C * T.inverse()"
   ]
  },
  {
   "cell_type": "markdown",
   "metadata": {},
   "source": [
    "# Task 10"
   ]
  },
  {
   "cell_type": "code",
   "execution_count": null,
   "metadata": {},
   "outputs": [
    {
     "data": {
      "text/plain": [
       "[ 4 -2]\n",
       "[-2  1]"
      ]
     },
     "execution_count": null,
     "metadata": {},
     "output_type": "execute_result"
    }
   ],
   "source": [
    "D = Matrix([[4, -2], [-2, 1]])\n",
    "D"
   ]
  },
  {
   "cell_type": "code",
   "execution_count": null,
   "metadata": {},
   "outputs": [
    {
     "data": {
      "text/plain": [
       "[5, 0]"
      ]
     },
     "execution_count": null,
     "metadata": {},
     "output_type": "execute_result"
    }
   ],
   "source": [
    "D.eigenvalues()"
   ]
  },
  {
   "cell_type": "code",
   "execution_count": null,
   "metadata": {},
   "outputs": [
    {
     "data": {
      "text/plain": [
       "[ 2/5*sqrt(5) -1/5*sqrt(5)]\n",
       "[ 1/5*sqrt(5)  2/5*sqrt(5)]"
      ]
     },
     "execution_count": null,
     "metadata": {},
     "output_type": "execute_result"
    }
   ],
   "source": [
    "eigenvectors = sum(([v.normalized() for v in vs] for _, vs, _ in D.eigenvectors_left()), [])\n",
    "Matrix(eigenvectors)"
   ]
  }
 ],
 "metadata": {
  "kernelspec": {
   "display_name": "SageMath 9.6",
   "language": "sage",
   "name": "sagemath"
  },
  "language_info": {
   "codemirror_mode": {
    "name": "ipython",
    "version": 3
   },
   "file_extension": ".py",
   "mimetype": "text/x-python",
   "name": "python",
   "nbconvert_exporter": "python",
   "pygments_lexer": "ipython3",
   "version": "3.10.5"
  }
 },
 "nbformat": 4,
 "nbformat_minor": 5
}
