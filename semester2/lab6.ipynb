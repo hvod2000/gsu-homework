{
 "cells": [
  {
   "cell_type": "markdown",
   "id": "95f7c222",
   "metadata": {},
   "source": [
    "# Task 5"
   ]
  },
  {
   "cell_type": "code",
   "execution_count": 1,
   "id": "ca371fe0",
   "metadata": {},
   "outputs": [],
   "source": [
    "a1 = vector([1, 1, 1, 2])\n",
    "a2 = vector([1, 2, 3, -3])\n",
    "a3 = vector([1, -2, 1, 0])\n",
    "a4 = vector([25, 4, -17, -6])"
   ]
  },
  {
   "cell_type": "code",
   "execution_count": 2,
   "id": "3f9bfb23",
   "metadata": {},
   "outputs": [],
   "source": [
    "assert a1 * a3 == 0\n",
    "assert a2 * a3 == 0\n",
    "assert a3 * a4 == 0"
   ]
  },
  {
   "cell_type": "code",
   "execution_count": 3,
   "id": "da76fbb6",
   "metadata": {},
   "outputs": [
    {
     "name": "stdout",
     "output_type": "stream",
     "text": [
      "0 (1, 1, 1, 2) sqrt(7) (1/7*sqrt(7), 1/7*sqrt(7), 1/7*sqrt(7), 2/7*sqrt(7))\n",
      "1 (1, 2, 3, -3) sqrt(23) (1/23*sqrt(23), 2/23*sqrt(23), 3/23*sqrt(23), -3/23*sqrt(23))\n",
      "2 (1, -2, 1, 0) sqrt(6) (1/6*sqrt(6), -1/3*sqrt(6), 1/6*sqrt(6), 0)\n",
      "3 (25, 4, -17, -6) sqrt(966) (25/966*sqrt(966), 2/483*sqrt(966), -17/966*sqrt(966), -1/161*sqrt(966))\n"
     ]
    }
   ],
   "source": [
    "for i, a in enumerate([a1, a2, a3, a4]):\n",
    "    print(i, a, a.norm(), a.normalized())"
   ]
  },
  {
   "cell_type": "markdown",
   "id": "b3f2b2b6",
   "metadata": {},
   "source": [
    "# Task 6"
   ]
  },
  {
   "cell_type": "code",
   "execution_count": 4,
   "id": "515bf369",
   "metadata": {},
   "outputs": [],
   "source": [
    "b1 = vector([2, -1, 3])\n",
    "b2 = vector([3, 2, -5])\n",
    "b3 = vector([1, -1, 1])"
   ]
  },
  {
   "cell_type": "code",
   "execution_count": 5,
   "id": "a47d190b",
   "metadata": {
    "scrolled": true
   },
   "outputs": [
    {
     "name": "stdout",
     "output_type": "stream",
     "text": [
      "(2, -1, 3) (32/7, 17/14, -37/14) (13/411, -247/411, -91/411)\n",
      "(1/7*sqrt(14), -1/14*sqrt(14), 3/14*sqrt(14)) sqrt(14)\n",
      "(64/411*sqrt(411/14), 17/411*sqrt(411/14), -37/411*sqrt(411/14)) sqrt(411/14)\n",
      "(sqrt(1/411), -19*sqrt(1/411), -7*sqrt(1/411)) 13*sqrt(1/411)\n"
     ]
    }
   ],
   "source": [
    "a1 = b1\n",
    "a2 = b2 - (a1 * b2) / (a1 * a1) * a1\n",
    "a3 = b3 - (a1 * b3) / (a1 * a1) * a1 - (a2 * b3) / (a2 * a2) * a2\n",
    "assert a1 * a2 == 0\n",
    "assert a2 * a3 == 0\n",
    "assert a3 * a1 == 0\n",
    "print(a1, a2, a3)\n",
    "for a in [a1, a2, a3]:\n",
    "    print(a.normalized(), a.norm())\n",
    "a1, a2, a3 = [a.normalized() for a in [a1, a2, a3]]"
   ]
  },
  {
   "cell_type": "code",
   "execution_count": 6,
   "id": "9fa4f580",
   "metadata": {},
   "outputs": [],
   "source": [
    "assert a1 * a1 == 1\n",
    "assert a2 * a2 == 1\n",
    "assert a3 * a3 == 1"
   ]
  },
  {
   "cell_type": "markdown",
   "id": "6b9c068f",
   "metadata": {},
   "source": [
    "# Task 7"
   ]
  },
  {
   "cell_type": "code",
   "execution_count": 7,
   "id": "73ea9a94",
   "metadata": {},
   "outputs": [],
   "source": [
    "a1 = vector((1, 1, -1, -2))\n",
    "a2 = vector((3, 0, -1, 2))\n",
    "a3 = vector((2, -1, 0, 4))"
   ]
  },
  {
   "cell_type": "code",
   "execution_count": 8,
   "id": "9c2cf106",
   "metadata": {},
   "outputs": [
    {
     "name": "stdout",
     "output_type": "stream",
     "text": [
      "(1, 1, -1, -2) sqrt(7) --> (1/7*sqrt(7), 1/7*sqrt(7), -1/7*sqrt(7), -2/7*sqrt(7))\n",
      "(3, 0, -1, 2) sqrt(14) --> (3/14*sqrt(14), 0, -1/14*sqrt(14), 1/7*sqrt(14))\n"
     ]
    }
   ],
   "source": [
    "b1 = a1\n",
    "b2 = a2 - (b1 * a2) / (b1 * b1) * b1\n",
    "b3 = a3 - (b1 * a3) / (b1 * b1) * b1 - (b2 * a3) / (b2 * b2) * b2\n",
    "assert b1 * b2 == 0 and b2 * b3 == 0 and b3 * b1 == 0\n",
    "for b in (b1, b2): print(b, b.norm(), \"-->\", b.normalized())"
   ]
  },
  {
   "cell_type": "markdown",
   "id": "519e7341",
   "metadata": {},
   "source": [
    "# Task 8"
   ]
  },
  {
   "cell_type": "code",
   "execution_count": 9,
   "id": "a4c68aa5",
   "metadata": {},
   "outputs": [
    {
     "name": "stdout",
     "output_type": "stream",
     "text": [
      "1/6  /  1/3\n"
     ]
    }
   ],
   "source": [
    "n = integral(x*(2*x - 1), x, 0, 1)\n",
    "d = integral((2*x-1)^2, x, 0, 1)\n",
    "print(n, \" / \", d)"
   ]
  }
 ],
 "metadata": {
  "kernelspec": {
   "display_name": "SageMath 9.5",
   "language": "sage",
   "name": "sagemath"
  },
  "language_info": {
   "codemirror_mode": {
    "name": "ipython",
    "version": 3
   },
   "file_extension": ".py",
   "mimetype": "text/x-python",
   "name": "python",
   "nbconvert_exporter": "python",
   "pygments_lexer": "ipython3",
   "version": "3.9.9"
  }
 },
 "nbformat": 4,
 "nbformat_minor": 5
}
