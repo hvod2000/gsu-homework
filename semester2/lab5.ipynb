{
 "cells": [
  {
   "cell_type": "markdown",
   "metadata": {},
   "source": [
    "# Task 4"
   ]
  },
  {
   "cell_type": "code",
   "execution_count": null,
   "metadata": {},
   "outputs": [
    {
     "name": "stdout",
     "output_type": "stream",
     "text": [
      "λ^3 - λ^2 - 5*λ - 3\n",
      "[3, -1, -1]\n"
     ]
    }
   ],
   "source": [
    "B = Matrix([[1, -3, 4], [4, -7, 8], [6, -7, 7]])\n",
    "print(B.characteristic_polynomial().subs(var(\"λ\")))\n",
    "print(B.eigenvalues())"
   ]
  },
  {
   "cell_type": "code",
   "execution_count": null,
   "metadata": {},
   "outputs": [
    {
     "name": "stdout",
     "output_type": "stream",
     "text": [
      "(B - λ).rank()=2\n"
     ]
    }
   ],
   "source": [
    "λ = -1; print(f\"{(B - λ).rank()=}\")"
   ]
  },
  {
   "cell_type": "code",
   "execution_count": null,
   "metadata": {},
   "outputs": [
    {
     "name": "stdout",
     "output_type": "stream",
     "text": [
      "λ^4 - 7*λ^3 + 9*λ^2 + 27*λ - 54\n",
      "[-2, 3, 3, 3]\n"
     ]
    }
   ],
   "source": [
    "C = Matrix([[4, 1, 1, 1], [-1, 2, -1, -1], [6, 1, -1, 1], [-6, -1, 4, 2]])\n",
    "print(C.characteristic_polynomial().subs(var(\"λ\")))\n",
    "print(C.eigenvalues())"
   ]
  },
  {
   "cell_type": "code",
   "execution_count": null,
   "metadata": {},
   "outputs": [
    {
     "name": "stdout",
     "output_type": "stream",
     "text": [
      "(C - λ).rank()=2\n"
     ]
    }
   ],
   "source": [
    "λ = 3; print(f\"{(C - λ).rank()=}\")"
   ]
  }
 ],
 "metadata": {
  "kernelspec": {
   "display_name": "SageMath 9.5",
   "language": "sage",
   "name": "sagemath"
  },
  "language_info": {
   "codemirror_mode": {
    "name": "ipython",
    "version": 3
   },
   "file_extension": ".py",
   "mimetype": "text/x-python",
   "name": "python",
   "nbconvert_exporter": "python",
   "pygments_lexer": "ipython3",
   "version": "3.9.9"
  }
 },
 "nbformat": 4,
 "nbformat_minor": 5
}
